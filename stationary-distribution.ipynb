{
 "cells": [
  {
   "cell_type": "code",
   "execution_count": 1,
   "metadata": {},
   "outputs": [],
   "source": [
    "import numpy as np\n",
    "import pandas as pd\n",
    "import sympy as sp"
   ]
  },
  {
   "cell_type": "code",
   "execution_count": 2,
   "metadata": {},
   "outputs": [],
   "source": [
    "def f(arr):\n",
    "    return np.array( [int(arr[i] == 1) for i in range(arr.shape[0])] )\n",
    "\n",
    "def int_to_state(x_int, N):\n",
    "    return np.array([int(ch) for ch in bin(x_int)[2:].rjust(N, \"0\")])\n",
    "\n",
    "def state_to_int(x_arr, N):\n",
    "    return int( \"\".join([str(x_arr[_]) for _ in range(N)] ), 2)"
   ]
  },
  {
   "cell_type": "code",
   "execution_count": 12,
   "metadata": {},
   "outputs": [
    {
     "data": {
      "text/plain": [
       "array([[1, 0, 1],\n",
       "       [0, 0, 0],\n",
       "       [0, 0, 1]])"
      ]
     },
     "execution_count": 12,
     "metadata": {},
     "output_type": "execute_result"
    }
   ],
   "source": [
    "# I want to write an algorithm to calculate the transition matrix \n",
    "N = 3\n",
    "adj = np.random.choice([0,1], size=N**2).reshape((N,N))\n",
    "adj"
   ]
  },
  {
   "cell_type": "code",
   "execution_count": 13,
   "metadata": {},
   "outputs": [
    {
     "data": {
      "text/plain": [
       "array([[0., 0., 0., 0., 0., 0., 0., 0.],\n",
       "       [0., 0., 0., 0., 0., 0., 0., 0.],\n",
       "       [0., 0., 0., 0., 0., 0., 0., 0.],\n",
       "       [0., 0., 0., 0., 0., 0., 0., 0.],\n",
       "       [0., 0., 0., 0., 0., 0., 0., 0.],\n",
       "       [0., 0., 0., 0., 0., 0., 0., 0.],\n",
       "       [0., 0., 0., 0., 0., 0., 0., 0.],\n",
       "       [0., 0., 0., 0., 0., 0., 0., 0.]])"
      ]
     },
     "execution_count": 13,
     "metadata": {},
     "output_type": "execute_result"
    }
   ],
   "source": [
    "num_states = 2**N\n"
   ]
  },
  {
   "cell_type": "code",
   "execution_count": 14,
   "metadata": {},
   "outputs": [],
   "source": [
    "p = 0.005"
   ]
  },
  {
   "cell_type": "code",
   "execution_count": 35,
   "metadata": {},
   "outputs": [],
   "source": [
    "# We'll use convention from col to row\n",
    "trans = np.zeros((num_states,num_states))\n",
    "\n",
    "# We're gonna iterate over the states\n",
    "for x_int in range(num_states):\n",
    "    # Get the state corresponding to the number\n",
    "    x_arr = int_to_state(x_int, N)\n",
    "\n",
    "    # Now, we're gonna iterate over the injections\n",
    "    for b_int in range(num_states):\n",
    "        b_arr = int_to_state(b_int, N)\n",
    "\n",
    "        # Find out how many injections came with this b\n",
    "        num_inj = np.sum(b_arr)\n",
    "\n",
    "        # Get the probability of this injection vector\n",
    "        prob = p**num_inj * (1-p)**(N-num_inj)\n",
    "\n",
    "        # Calculate the output of the function\n",
    "        w_arr = f( np.matmul(adj,x_arr) + b_arr )\n",
    "        \n",
    "        # Get the integer corresponding to the output\n",
    "        w_int = state_to_int(w_arr, N)\n",
    "\n",
    "        # Update the transition matrix\n",
    "        trans[w_int, x_int] += prob\n",
    "\n"
   ]
  },
  {
   "cell_type": "code",
   "execution_count": 36,
   "metadata": {},
   "outputs": [
    {
     "data": {
      "text/plain": [
       "array([[9.85074875e-01, 2.48750000e-05, 9.85074875e-01, 2.48750000e-05,\n",
       "        4.95012500e-03, 4.97500000e-03, 4.95012500e-03, 4.97500000e-03],\n",
       "       [4.95012500e-03, 4.95012500e-03, 4.95012500e-03, 4.95012500e-03,\n",
       "        2.48750000e-05, 9.90025000e-01, 2.48750000e-05, 9.90025000e-01],\n",
       "       [4.95012500e-03, 1.25000000e-07, 4.95012500e-03, 1.25000000e-07,\n",
       "        2.48750000e-05, 2.50000000e-05, 2.48750000e-05, 2.50000000e-05],\n",
       "       [2.48750000e-05, 2.48750000e-05, 2.48750000e-05, 2.48750000e-05,\n",
       "        1.25000000e-07, 4.97500000e-03, 1.25000000e-07, 4.97500000e-03],\n",
       "       [4.95012500e-03, 4.95012500e-03, 4.95012500e-03, 4.95012500e-03,\n",
       "        9.85074875e-01, 0.00000000e+00, 9.85074875e-01, 0.00000000e+00],\n",
       "       [2.48750000e-05, 9.85074875e-01, 2.48750000e-05, 9.85074875e-01,\n",
       "        4.95012500e-03, 0.00000000e+00, 4.95012500e-03, 0.00000000e+00],\n",
       "       [2.48750000e-05, 2.48750000e-05, 2.48750000e-05, 2.48750000e-05,\n",
       "        4.95012500e-03, 0.00000000e+00, 4.95012500e-03, 0.00000000e+00],\n",
       "       [1.25000000e-07, 4.95012500e-03, 1.25000000e-07, 4.95012500e-03,\n",
       "        2.48750000e-05, 0.00000000e+00, 2.48750000e-05, 0.00000000e+00]])"
      ]
     },
     "execution_count": 36,
     "metadata": {},
     "output_type": "execute_result"
    }
   ],
   "source": [
    "trans"
   ]
  },
  {
   "cell_type": "code",
   "execution_count": 38,
   "metadata": {},
   "outputs": [
    {
     "data": {
      "text/plain": [
       "array([1., 1., 1., 1., 1., 1., 1., 1.])"
      ]
     },
     "execution_count": 38,
     "metadata": {},
     "output_type": "execute_result"
    }
   ],
   "source": [
    "np.sum(trans, axis=0)"
   ]
  },
  {
   "cell_type": "code",
   "execution_count": 45,
   "metadata": {},
   "outputs": [],
   "source": [
    "eigen = np.linalg.eig(trans)"
   ]
  },
  {
   "cell_type": "code",
   "execution_count": 46,
   "metadata": {},
   "outputs": [
    {
     "data": {
      "text/plain": [
       "(array([-9.90012531e-01,  5.63785130e-18,  1.00000000e+00,  9.85037531e-01,\n",
       "         9.90000000e-01, -7.08890839e-18, -1.70221699e-18,  8.53584731e-19]),\n",
       " array([[-1.78110850e-03,  7.07106781e-01,  5.00412619e-01,\n",
       "         -7.07095633e-01,  4.98732675e-01, -1.38172890e-01,\n",
       "          6.73135176e-01,  1.58833859e-01],\n",
       "        [-7.07095610e-01, -1.34785983e-15,  5.01243827e-01,\n",
       "         -1.77215826e-03, -5.01251527e-01,  6.83876199e-01,\n",
       "         -5.55778950e-02, -4.04575991e-01],\n",
       "        [-8.95029397e-06, -7.07106781e-01,  2.51463627e-03,\n",
       "         -3.55324439e-03,  2.50619435e-03,  1.38172890e-01,\n",
       "         -6.73135176e-01, -1.58833859e-01],\n",
       "        [-3.55324427e-03, -4.57449925e-18,  2.51881320e-03,\n",
       "         -8.90531790e-06, -2.51885189e-03, -6.83876199e-01,\n",
       "          5.55778950e-02,  4.04575991e-01],\n",
       "        [ 1.78110850e-03, -1.49611750e-16,  4.99573014e-01,\n",
       "          7.07095633e-01,  5.01251527e-01,  4.32247500e-02,\n",
       "         -2.47951938e-02, -5.57650612e-01],\n",
       "        [ 7.07095610e-01,  3.43064010e-15,  4.98741806e-01,\n",
       "          1.77215826e-03, -4.98732675e-01,  1.06551477e-01,\n",
       "         -2.07810804e-01, -1.07641766e-02],\n",
       "        [ 8.95029397e-06,  9.43623035e-19,  2.51041716e-03,\n",
       "          3.55324439e-03,  2.51885189e-03, -4.32247500e-02,\n",
       "          2.47951938e-02,  5.57650612e-01],\n",
       "        [ 3.55324427e-03,  7.65352087e-18,  2.50624023e-03,\n",
       "          8.90531790e-06, -2.50619435e-03, -1.06551477e-01,\n",
       "          2.07810804e-01,  1.07641766e-02]]))"
      ]
     },
     "execution_count": 46,
     "metadata": {},
     "output_type": "execute_result"
    }
   ],
   "source": [
    "eigen"
   ]
  },
  {
   "cell_type": "code",
   "execution_count": 61,
   "metadata": {},
   "outputs": [
    {
     "data": {
      "text/plain": [
       "array([0.50041262, 0.50124383, 0.00251464, 0.00251881, 0.49957301,\n",
       "       0.49874181, 0.00251042, 0.00250624])"
      ]
     },
     "execution_count": 61,
     "metadata": {},
     "output_type": "execute_result"
    }
   ],
   "source": [
    "M = np.max(eigen[0])\n",
    "\n",
    "idx = list(eigen[0]).index(M)\n",
    "\n",
    "stat_dsbn = eigen[1][:,idx]\n",
    "stat_dsbn"
   ]
  },
  {
   "cell_type": "code",
   "execution_count": 62,
   "metadata": {},
   "outputs": [
    {
     "data": {
      "text/plain": [
       "2.01002137288548"
      ]
     },
     "execution_count": 62,
     "metadata": {},
     "output_type": "execute_result"
    }
   ],
   "source": [
    "sum(stat_dsbn)\n",
    "# God dammit that's not right!"
   ]
  },
  {
   "cell_type": "code",
   "execution_count": null,
   "metadata": {},
   "outputs": [],
   "source": []
  }
 ],
 "metadata": {
  "kernelspec": {
   "display_name": "Python 3",
   "language": "python",
   "name": "python3"
  },
  "language_info": {
   "codemirror_mode": {
    "name": "ipython",
    "version": 3
   },
   "file_extension": ".py",
   "mimetype": "text/x-python",
   "name": "python",
   "nbconvert_exporter": "python",
   "pygments_lexer": "ipython3",
   "version": "3.9.2"
  },
  "orig_nbformat": 4
 },
 "nbformat": 4,
 "nbformat_minor": 2
}

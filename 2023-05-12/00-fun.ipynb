{
 "cells": [
  {
   "cell_type": "code",
   "execution_count": 1,
   "metadata": {},
   "outputs": [],
   "source": [
    "import numpy as np\n",
    "import pandas as pd"
   ]
  },
  {
   "cell_type": "code",
   "execution_count": 2,
   "metadata": {},
   "outputs": [],
   "source": [
    "# Erdos-Renyi generator\n",
    "def erdos_renyi(n):\n",
    "    adj_mat = np.zeros((n,n))\n",
    "    for i in range(n):\n",
    "        for j in range(n):\n",
    "            adj_mat[i,j] = np.random.randint(low=0, high=2)\n",
    "    return adj_mat\n",
    "\n",
    "# Dynamical process\n"
   ]
  },
  {
   "cell_type": "code",
   "execution_count": 3,
   "metadata": {},
   "outputs": [
    {
     "data": {
      "text/plain": [
       "array([[1., 0., 0., 1., 0.],\n",
       "       [1., 1., 1., 0., 0.],\n",
       "       [1., 0., 1., 0., 1.],\n",
       "       [0., 0., 0., 1., 0.],\n",
       "       [0., 0., 0., 1., 0.]])"
      ]
     },
     "execution_count": 3,
     "metadata": {},
     "output_type": "execute_result"
    }
   ],
   "source": [
    "n=5\n",
    "A = erdos_renyi(n)\n",
    "A"
   ]
  },
  {
   "cell_type": "code",
   "execution_count": 4,
   "metadata": {},
   "outputs": [
    {
     "data": {
      "text/plain": [
       "array([1, 0, 1, 1, 0])"
      ]
     },
     "execution_count": 4,
     "metadata": {},
     "output_type": "execute_result"
    }
   ],
   "source": [
    "x = np.random.randint(low=[0 for i in range(n)], high=[2 for i in range(n)])\n",
    "x"
   ]
  },
  {
   "cell_type": "code",
   "execution_count": 5,
   "metadata": {},
   "outputs": [
    {
     "data": {
      "text/plain": [
       "array([2., 2., 2., 1., 1.])"
      ]
     },
     "execution_count": 5,
     "metadata": {},
     "output_type": "execute_result"
    }
   ],
   "source": [
    "y = np.matmul(A,x)\n",
    "y"
   ]
  },
  {
   "cell_type": "code",
   "execution_count": 6,
   "metadata": {},
   "outputs": [
    {
     "data": {
      "text/plain": [
       "array([1, 1, 1, 0, 0])"
      ]
     },
     "execution_count": 6,
     "metadata": {},
     "output_type": "execute_result"
    }
   ],
   "source": [
    "z = np.array([ int(y[i] > 1) for i in range(n) ])\n",
    "z"
   ]
  },
  {
   "cell_type": "code",
   "execution_count": 7,
   "metadata": {},
   "outputs": [
    {
     "name": "stdout",
     "output_type": "stream",
     "text": [
      "[0. 0. 0. 1. 1.]\n",
      "[1. 0. 1. 1. 1.]\n",
      "[0. 0. 0. 1. 1.]\n",
      "[1. 0. 1. 1. 1.]\n",
      "[0. 0. 0. 1. 1.]\n",
      "[1. 0. 1. 1. 1.]\n",
      "[0. 0. 0. 1. 1.]\n",
      "[1. 0. 1. 1. 1.]\n",
      "[0. 0. 0. 1. 1.]\n",
      "[1. 0. 1. 1. 1.]\n"
     ]
    }
   ],
   "source": [
    "x_test = np.array(x)\n",
    "for t in range(10):\n",
    "    y = np.matmul(A,x_test)\n",
    "    x_test = y * (y==1)\n",
    "    print(x_test)\n"
   ]
  },
  {
   "cell_type": "code",
   "execution_count": 8,
   "metadata": {},
   "outputs": [
    {
     "data": {
      "text/plain": [
       "array([1, 0, 1, 1, 0])"
      ]
     },
     "execution_count": 8,
     "metadata": {},
     "output_type": "execute_result"
    }
   ],
   "source": [
    "x_test = np.array(x)\n",
    "x_test"
   ]
  },
  {
   "cell_type": "code",
   "execution_count": 9,
   "metadata": {},
   "outputs": [
    {
     "data": {
      "text/plain": [
       "array([0., 0., 0., 1., 1.])"
      ]
     },
     "execution_count": 9,
     "metadata": {},
     "output_type": "execute_result"
    }
   ],
   "source": [
    "y_test = np.matmul(A,x_test)\n",
    "y_test * (y_test == 1)"
   ]
  },
  {
   "cell_type": "code",
   "execution_count": 10,
   "metadata": {},
   "outputs": [],
   "source": [
    "import numpy as np\n",
    "import pandas as pd"
   ]
  },
  {
   "cell_type": "code",
   "execution_count": 11,
   "metadata": {},
   "outputs": [
    {
     "name": "stdout",
     "output_type": "stream",
     "text": [
      "[[0 0 1]\n",
      " [0 1 0]\n",
      " [0 1 1]]\n"
     ]
    }
   ],
   "source": [
    "# Generate an adjacency matrix for a small network\n",
    "n=3\n",
    "A = np.zeros((n,n), dtype=int)\n",
    "for i in range(n):\n",
    "    for j in range(n):\n",
    "        A[i,j] = np.random.choice([0,1])\n",
    "\n",
    "print(A)"
   ]
  },
  {
   "cell_type": "code",
   "execution_count": 12,
   "metadata": {},
   "outputs": [],
   "source": [
    "# Gives a random binary vector\n",
    "def get_b(n):\n",
    "    return np.array( [np.random.choice([complex(\"0\"),complex(\"1\")]) for i in range(n)] )\n",
    "\n",
    "# In place, randomly selects an entry of 1 in b and replaces it with 1j.\n",
    "def inject_tracker(b):\n",
    "    support = [i for i in range(b.shape[0]) if b[i,] ]\n",
    "    node = np.random.choice(support)\n",
    "    b[node,] = complex(\"j\")\n",
    "\n",
    "# The collision function. The input is a vector y = Ax + b\n",
    "def f(y):\n",
    "    # We multiply each entry of y by the indicator that there is only one message at the corresponding node \n",
    "    return np.array( [ y[i,]*(y[i,].real + y[i,].imag == 1) for i in range(y.shape[0]) ] )\n",
    "\n",
    "\n"
   ]
  },
  {
   "cell_type": "code",
   "execution_count": 13,
   "metadata": {},
   "outputs": [],
   "source": [
    "# Initialize external parameters\n",
    "survival_times = dict()\n",
    "alpha = 0\n",
    "need_injection = True\n",
    "T = 1000\n",
    "\n",
    "# Initialize dynamical parameters (t=0)\n",
    "x = get_b(n)\n",
    "\n",
    "# This is the main loop\n",
    "for t in range(0,T+1):\n",
    "    # Get b_t\n",
    "    b = get_b(n)\n",
    "\n",
    "    # If it is possible and necessary to inject a tracker, do so, and update values accordingly\n",
    "    if (np.sum(b) > 0) and need_injection:\n",
    "        inject_tracker(b)\n",
    "        need_injection = False\n",
    "        alpha += 1\n",
    "        survival_times[alpha] = 1\n",
    "    \n",
    "    # Calculate the next state\n",
    "    x = f(np.matmul(A,x) + b)\n",
    "\n",
    "    # Check if message alpha has survived, and if so, update accordingly\n",
    "    if complex(\"j\") in x:\n",
    "        survival_times[alpha] += 1\n",
    "    else:\n",
    "        need_injection = True"
   ]
  },
  {
   "cell_type": "code",
   "execution_count": 14,
   "metadata": {},
   "outputs": [
    {
     "data": {
      "text/html": [
       "<div>\n",
       "<style scoped>\n",
       "    .dataframe tbody tr th:only-of-type {\n",
       "        vertical-align: middle;\n",
       "    }\n",
       "\n",
       "    .dataframe tbody tr th {\n",
       "        vertical-align: top;\n",
       "    }\n",
       "\n",
       "    .dataframe thead th {\n",
       "        text-align: right;\n",
       "    }\n",
       "</style>\n",
       "<table border=\"1\" class=\"dataframe\">\n",
       "  <thead>\n",
       "    <tr style=\"text-align: right;\">\n",
       "      <th></th>\n",
       "      <th>Survival_Time</th>\n",
       "      <th>Count</th>\n",
       "    </tr>\n",
       "  </thead>\n",
       "  <tbody>\n",
       "    <tr>\n",
       "      <th>0</th>\n",
       "      <td>1</td>\n",
       "      <td>197</td>\n",
       "    </tr>\n",
       "    <tr>\n",
       "      <th>1</th>\n",
       "      <td>2</td>\n",
       "      <td>198</td>\n",
       "    </tr>\n",
       "    <tr>\n",
       "      <th>2</th>\n",
       "      <td>3</td>\n",
       "      <td>41</td>\n",
       "    </tr>\n",
       "    <tr>\n",
       "      <th>3</th>\n",
       "      <td>4</td>\n",
       "      <td>20</td>\n",
       "    </tr>\n",
       "    <tr>\n",
       "      <th>4</th>\n",
       "      <td>5</td>\n",
       "      <td>8</td>\n",
       "    </tr>\n",
       "    <tr>\n",
       "      <th>5</th>\n",
       "      <td>6</td>\n",
       "      <td>2</td>\n",
       "    </tr>\n",
       "    <tr>\n",
       "      <th>6</th>\n",
       "      <td>7</td>\n",
       "      <td>3</td>\n",
       "    </tr>\n",
       "    <tr>\n",
       "      <th>7</th>\n",
       "      <td>8</td>\n",
       "      <td>4</td>\n",
       "    </tr>\n",
       "    <tr>\n",
       "      <th>8</th>\n",
       "      <td>9</td>\n",
       "      <td>1</td>\n",
       "    </tr>\n",
       "    <tr>\n",
       "      <th>9</th>\n",
       "      <td>10</td>\n",
       "      <td>2</td>\n",
       "    </tr>\n",
       "  </tbody>\n",
       "</table>\n",
       "</div>"
      ],
      "text/plain": [
       "   Survival_Time  Count\n",
       "0              1    197\n",
       "1              2    198\n",
       "2              3     41\n",
       "3              4     20\n",
       "4              5      8\n",
       "5              6      2\n",
       "6              7      3\n",
       "7              8      4\n",
       "8              9      1\n",
       "9             10      2"
      ]
     },
     "execution_count": 14,
     "metadata": {},
     "output_type": "execute_result"
    }
   ],
   "source": [
    "data = pd.DataFrame.from_dict(survival_times, orient=\"index\")\n",
    "data = pd.DataFrame(data.value_counts())\n",
    "data.sort_index(inplace=True)\n",
    "data.columns=[1]\n",
    "data.reset_index(inplace=True)\n",
    "data.columns=[\"Survival_Time\", \"Count\"]\n",
    "\n",
    "\n",
    "data\n"
   ]
  },
  {
   "cell_type": "code",
   "execution_count": 99,
   "metadata": {},
   "outputs": [
    {
     "data": {
      "text/plain": [
       "1    219\n",
       "2    121\n",
       "3     68\n",
       "4     24\n",
       "5     12\n",
       "6     12\n",
       "7      3\n",
       "8      2\n",
       "9      1\n",
       "dtype: int64"
      ]
     },
     "execution_count": 99,
     "metadata": {},
     "output_type": "execute_result"
    }
   ],
   "source": [
    "data"
   ]
  },
  {
   "cell_type": "code",
   "execution_count": null,
   "metadata": {},
   "outputs": [],
   "source": []
  }
 ],
 "metadata": {
  "kernelspec": {
   "display_name": "Python 3",
   "language": "python",
   "name": "python3"
  },
  "language_info": {
   "codemirror_mode": {
    "name": "ipython",
    "version": 3
   },
   "file_extension": ".py",
   "mimetype": "text/x-python",
   "name": "python",
   "nbconvert_exporter": "python",
   "pygments_lexer": "ipython3",
   "version": "3.9.2"
  },
  "orig_nbformat": 4
 },
 "nbformat": 4,
 "nbformat_minor": 2
}

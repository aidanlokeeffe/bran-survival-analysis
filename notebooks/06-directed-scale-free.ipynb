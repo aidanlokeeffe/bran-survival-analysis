{
 "cells": [
  {
   "cell_type": "code",
   "execution_count": 3,
   "metadata": {},
   "outputs": [],
   "source": [
    "import numpy as np"
   ]
  },
  {
   "attachments": {},
   "cell_type": "markdown",
   "metadata": {},
   "source": [
    "The function in the next cell comes from the paper \"Directed Scale Free Graphs\" by Bollobas, Borgs, Chayes, and Riordan. The graph model in that paper takes 5 parameters: $\\alpha$, $\\beta$, $\\gamma$, $\\delta_{in}$, and $\\delta_{out}.$ It is stipulated that all of these parameters are non-negative, and that $\\alpha + \\beta + \\gamma = 1$.\n",
    "\n",
    "In what follows, I have set $\\alpha = \\frac{1}{4}$, $\\beta = \\frac{1}{2}$, and $\\gamma = \\frac{1}{4}$. I chose these values because they are the most symmetric choice for these parameters that does not lead to a trivial network. \n",
    "\n",
    "Now, the paper gives an equation in terms of these five parameters for the expected exponent in the power law distribution. Since scale free graphs techincally a power law degree distribution with the exponent strictly between 2 and 3, I set the desired exponent for both degree distribution equal to 2.5. Then, we can solve for the other two parameters, obtaining $\\delta_{in} = \\frac{2}{3}$ and $\\delta_{out} = \\frac{2}{3}$."
   ]
  },
  {
   "cell_type": "code",
   "execution_count": 88,
   "metadata": {},
   "outputs": [],
   "source": [
    "def directed_scale_free(n):\n",
    "    adjacency_matrix = np.zeros((n,n))\n",
    "    adjacency_matrix[0,1] += 1\n",
    "    adjacency_matrix[1,0] += 1\n",
    "\n",
    "    t = 2\n",
    "\n",
    "    for i in range(2):\n",
    "        for j in range(2):\n",
    "            if i != j:\n",
    "                edge_increment = np.random.choice([0,1])\n",
    "                adjacency_matrix[i,j] += edge_increment\n",
    "                t += edge_increment\n",
    "\n",
    "\n",
    "    # Initialize various parameters\n",
    "    n_current = 2\n",
    "    prob_a = 0.25\n",
    "    prob_b = 0.5\n",
    "    prob_c = 0.25\n",
    "    delta_in = 0.6666666666666667\n",
    "    delta_out = 0.6666666666666667\n",
    "\n",
    "    nodes = np.array(range(n))\n",
    "\n",
    "    # These values are related to choosing nodes according to the various actions. We don't want to add deltas to nodes with no edges, so we multiply them by the indicators below\n",
    "    in_numerators = np.sum(adjacency_matrix, axis=1) + delta_in*( np.sum(adjacency_matrix, axis=1) > 0 )\n",
    "    in_denominator = t + delta_in*n_current\n",
    "    out_numerators = np.sum(adjacency_matrix, axis=0) + delta_out*( np.sum(adjacency_matrix, axis=0) > 0 )\n",
    "    out_denominator = t + delta_out*n_current\n",
    "\n",
    "    in_distribution = in_numerators / in_denominator\n",
    "    out_distribution = out_numerators / out_denominator\n",
    "\n",
    "    while n_current < n:\n",
    "        # Choose action\n",
    "        action = np.random.choice([\"A\", \"B\", \"C\"], p=[prob_a, prob_b, prob_c])\n",
    "\n",
    "        print(\"t = \" + str(t))\n",
    "        print(adjacency_matrix)\n",
    "        print(\"action = \" + action)\n",
    "        print(\"out_distribution = \" + str(out_distribution))\n",
    "        print(\"in_distribution = \" + str(in_distribution))\n",
    "        print(\"sum of out_distribution = \" + str(np.sum(out_distribution)) + \", sum of in_distribution = \" + str(np.sum(in_distribution)))\n",
    "        \n",
    "        try:\n",
    "            if action == \"A\":\n",
    "                j = n_current\n",
    "                i = np.random.choice(nodes, p=in_distribution)\n",
    "                #out_numerators[j] += 1 + delta_out\n",
    "                #in_numerators[i] += 1\n",
    "                n_current += 1\n",
    "            elif action == \"B\":\n",
    "                j = np.random.choice(nodes, p=out_distribution)\n",
    "                i = np.random.choice(nodes, p=in_distribution)\n",
    "                #out_numerators[j] += 1\n",
    "                #in_numerators[i] += 1\n",
    "            else:\n",
    "                j = np.random.choice(nodes, p=out_distribution)\n",
    "                i = n_current\n",
    "                #out_numerators[j] += 1\n",
    "                #in_numerators[i] += 1 + delta_in\n",
    "                n_current += 1\n",
    "            t += 1\n",
    "            #adjacency_matrix[i,j] += 1\n",
    "            #t += 1\n",
    "            #in_denominator = t + delta_in*n_current\n",
    "            #out_denominator = t + delta_out*n_current\n",
    "            #in_distribution = in_numerators / in_denominator\n",
    "            #out_distribution = out_numerators / out_denominator4\n",
    "\n",
    "            in_numerators = np.sum(adjacency_matrix, axis=1) + delta_in*( np.sum(adjacency_matrix, axis=1) > 0 )\n",
    "            in_denominator = t + delta_in*n_current\n",
    "            out_numerators = np.sum(adjacency_matrix, axis=0) + delta_out*( np.sum(adjacency_matrix, axis=0) > 0 )\n",
    "            out_denominator = t + delta_out*n_current\n",
    "            in_distribution = in_numerators / in_denominator\n",
    "            out_distribution = out_numerators / out_denominator\n",
    "            \n",
    "        except IndexError:\n",
    "            break\n",
    "    return adjacency_matrix\n",
    "\n",
    "    \n"
   ]
  },
  {
   "cell_type": "code",
   "execution_count": 89,
   "metadata": {},
   "outputs": [
    {
     "name": "stdout",
     "output_type": "stream",
     "text": [
      "t = 3\n",
      "[[0. 1. 0. 0. 0.]\n",
      " [2. 0. 0. 0. 0.]\n",
      " [0. 0. 0. 0. 0.]\n",
      " [0. 0. 0. 0. 0.]\n",
      " [0. 0. 0. 0. 0.]]\n",
      "action = B\n",
      "out_distribution = [0.61538462 0.38461538 0.         0.         0.        ]\n",
      "in_distribution = [0.38461538 0.61538462 0.         0.         0.        ]\n",
      "sum of out_distribution = 1.0, sum of in_distribution = 1.0\n",
      "t = 4\n",
      "[[0. 1. 0. 0. 0.]\n",
      " [2. 0. 0. 0. 0.]\n",
      " [0. 0. 0. 0. 0.]\n",
      " [0. 0. 0. 0. 0.]\n",
      " [0. 0. 0. 0. 0.]]\n",
      "action = B\n",
      "out_distribution = [0.5    0.3125 0.     0.     0.    ]\n",
      "in_distribution = [0.3125 0.5    0.     0.     0.    ]\n",
      "sum of out_distribution = 0.8125, sum of in_distribution = 0.8125\n"
     ]
    },
    {
     "ename": "ValueError",
     "evalue": "probabilities do not sum to 1",
     "output_type": "error",
     "traceback": [
      "\u001b[1;31m---------------------------------------------------------------------------\u001b[0m",
      "\u001b[1;31mValueError\u001b[0m                                Traceback (most recent call last)",
      "\u001b[1;32m~\\AppData\\Local\\Temp/ipykernel_25672/1189376928.py\u001b[0m in \u001b[0;36m<module>\u001b[1;34m\u001b[0m\n\u001b[1;32m----> 1\u001b[1;33m \u001b[0mdirected_scale_free\u001b[0m\u001b[1;33m(\u001b[0m\u001b[1;36m5\u001b[0m\u001b[1;33m)\u001b[0m\u001b[1;33m\u001b[0m\u001b[1;33m\u001b[0m\u001b[0m\n\u001b[0m",
      "\u001b[1;32m~\\AppData\\Local\\Temp/ipykernel_25672/3686238300.py\u001b[0m in \u001b[0;36mdirected_scale_free\u001b[1;34m(n)\u001b[0m\n\u001b[0;32m     52\u001b[0m                 \u001b[0mn_current\u001b[0m \u001b[1;33m+=\u001b[0m \u001b[1;36m1\u001b[0m\u001b[1;33m\u001b[0m\u001b[1;33m\u001b[0m\u001b[0m\n\u001b[0;32m     53\u001b[0m             \u001b[1;32melif\u001b[0m \u001b[0maction\u001b[0m \u001b[1;33m==\u001b[0m \u001b[1;34m\"B\"\u001b[0m\u001b[1;33m:\u001b[0m\u001b[1;33m\u001b[0m\u001b[1;33m\u001b[0m\u001b[0m\n\u001b[1;32m---> 54\u001b[1;33m                 \u001b[0mj\u001b[0m \u001b[1;33m=\u001b[0m \u001b[0mnp\u001b[0m\u001b[1;33m.\u001b[0m\u001b[0mrandom\u001b[0m\u001b[1;33m.\u001b[0m\u001b[0mchoice\u001b[0m\u001b[1;33m(\u001b[0m\u001b[0mnodes\u001b[0m\u001b[1;33m,\u001b[0m \u001b[0mp\u001b[0m\u001b[1;33m=\u001b[0m\u001b[0mout_distribution\u001b[0m\u001b[1;33m)\u001b[0m\u001b[1;33m\u001b[0m\u001b[1;33m\u001b[0m\u001b[0m\n\u001b[0m\u001b[0;32m     55\u001b[0m                 \u001b[0mi\u001b[0m \u001b[1;33m=\u001b[0m \u001b[0mnp\u001b[0m\u001b[1;33m.\u001b[0m\u001b[0mrandom\u001b[0m\u001b[1;33m.\u001b[0m\u001b[0mchoice\u001b[0m\u001b[1;33m(\u001b[0m\u001b[0mnodes\u001b[0m\u001b[1;33m,\u001b[0m \u001b[0mp\u001b[0m\u001b[1;33m=\u001b[0m\u001b[0min_distribution\u001b[0m\u001b[1;33m)\u001b[0m\u001b[1;33m\u001b[0m\u001b[1;33m\u001b[0m\u001b[0m\n\u001b[0;32m     56\u001b[0m                 \u001b[1;31m#out_numerators[j] += 1\u001b[0m\u001b[1;33m\u001b[0m\u001b[1;33m\u001b[0m\u001b[1;33m\u001b[0m\u001b[0m\n",
      "\u001b[1;32mmtrand.pyx\u001b[0m in \u001b[0;36mnumpy.random.mtrand.RandomState.choice\u001b[1;34m()\u001b[0m\n",
      "\u001b[1;31mValueError\u001b[0m: probabilities do not sum to 1"
     ]
    }
   ],
   "source": [
    "directed_scale_free(5)"
   ]
  },
  {
   "cell_type": "code",
   "execution_count": 72,
   "metadata": {},
   "outputs": [
    {
     "data": {
      "text/plain": [
       "4"
      ]
     },
     "execution_count": 72,
     "metadata": {},
     "output_type": "execute_result"
    }
   ],
   "source": [
    "5 - True"
   ]
  },
  {
   "cell_type": "code",
   "execution_count": null,
   "metadata": {},
   "outputs": [],
   "source": []
  }
 ],
 "metadata": {
  "kernelspec": {
   "display_name": "Python 3",
   "language": "python",
   "name": "python3"
  },
  "language_info": {
   "codemirror_mode": {
    "name": "ipython",
    "version": 3
   },
   "file_extension": ".py",
   "mimetype": "text/x-python",
   "name": "python",
   "nbconvert_exporter": "python",
   "pygments_lexer": "ipython3",
   "version": "3.9.2"
  },
  "orig_nbformat": 4
 },
 "nbformat": 4,
 "nbformat_minor": 2
}

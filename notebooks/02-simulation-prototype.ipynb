{
 "cells": [
  {
   "cell_type": "code",
   "execution_count": 1,
   "metadata": {},
   "outputs": [],
   "source": [
    "import numpy as np"
   ]
  },
  {
   "cell_type": "code",
   "execution_count": 81,
   "metadata": {},
   "outputs": [
    {
     "name": "stdout",
     "output_type": "stream",
     "text": [
      "[[1 1 0]\n",
      " [1 1 1]\n",
      " [1 0 1]]\n"
     ]
    }
   ],
   "source": [
    "# Generate an adjacency matrix for a small network\n",
    "n=3\n",
    "A = np.zeros((n,n), dtype=int)\n",
    "for i in range(n):\n",
    "    for j in range(n):\n",
    "        A[i,j] = np.random.choice([0,1])\n",
    "\n",
    "print(A)"
   ]
  },
  {
   "attachments": {},
   "cell_type": "markdown",
   "metadata": {},
   "source": [
    "We're gonna try a convention as follows:\n",
    "  * The entry 0 + 0j corresponds to 0\n",
    "  * The entry 1 + 0j corresponds to ,\n",
    "  * The entry 0 + 1j corresponds to a message variable $m_\\alpha$ for $\\alpha \\geq 1$\n",
    "\n",
    "We will have a counter for $\\alpha$, and as the simulation progresses, we'll populate a dictionary whose keys are values of $\\alpha.$ Every time a message goes extinct, we'll increment the counter and re-inject 0 + 1j. "
   ]
  },
  {
   "cell_type": "code",
   "execution_count": 11,
   "metadata": {},
   "outputs": [
    {
     "name": "stdout",
     "output_type": "stream",
     "text": [
      "[0.+1.j 0.+1.j 0.+1.j]\n"
     ]
    }
   ],
   "source": [
    "# TEST1: The zero vector goes to the zero vector\n",
    "x = np.array([complex(\"j\") for i in range(n)])\n",
    "\n",
    "print(np.matmul(A,x))"
   ]
  },
  {
   "attachments": {},
   "cell_type": "markdown",
   "metadata": {},
   "source": [
    "Below, we make a first pass at building the simulation."
   ]
  },
  {
   "cell_type": "code",
   "execution_count": 68,
   "metadata": {},
   "outputs": [],
   "source": [
    "# Gives a random binary vector\n",
    "def get_b(n):\n",
    "    return np.array( [np.random.choice([complex(\"0\"),complex(\"1\")]) for i in range(n)] )\n",
    "\n",
    "# In place, randomly selects an entry of 1 in b and replaces it with 1j.\n",
    "def inject_tracker(b):\n",
    "    support = [i for i in range(b.shape[0]) if b[i,] ]\n",
    "    node = np.random.choice(support)\n",
    "    b[node,] = complex(\"j\")\n",
    "\n",
    "# The collision function. The input is a vector y = Ax + b\n",
    "def f(y):\n",
    "    # We multiply each entry of y by the indicator that there is only one message at the corresponding node \n",
    "    return np.array( [ y[i,]*(y[i,].real + y[i,].imag == 1) for i in range(y.shape[0]) ] )\n"
   ]
  },
  {
   "cell_type": "code",
   "execution_count": 76,
   "metadata": {},
   "outputs": [],
   "source": [
    "# Initialize external parameters\n",
    "survival_times = dict()\n",
    "alpha = 0\n",
    "need_injection = True\n",
    "T = 10\n",
    "\n",
    "# Initialize dynamical parameters (t=0)\n",
    "x = get_b(n)\n",
    "\n",
    "# This is the main loop\n",
    "for t in range(0,T+1):\n",
    "    # Get b_t\n",
    "    b = get_b(n)\n",
    "\n",
    "    # If it is possible and necessary to inject a tracker, do so, and update values accordingly\n",
    "    if (np.sum(b) > 0) and need_injection:\n",
    "        inject_tracker(b)\n",
    "        need_injection = False\n",
    "        alpha += 1\n",
    "        survival_times[alpha] = 1\n",
    "    \n",
    "    # Calculate the next state\n",
    "    x = f(np.matmul(A,x) + b)\n",
    "\n",
    "    # Check if message alpha has survived, and if so, update accordingly\n",
    "    if complex(\"j\") in x:\n",
    "        survival_times[alpha] += 1\n",
    "    else:\n",
    "        need_injection = True"
   ]
  },
  {
   "cell_type": "code",
   "execution_count": 77,
   "metadata": {},
   "outputs": [
    {
     "data": {
      "text/plain": [
       "{1: 1, 2: 3, 3: 1, 4: 3, 5: 2}"
      ]
     },
     "execution_count": 77,
     "metadata": {},
     "output_type": "execute_result"
    }
   ],
   "source": [
    "survival_times"
   ]
  },
  {
   "attachments": {},
   "cell_type": "markdown",
   "metadata": {},
   "source": [
    "Alright, this looks pretty good! Still, I'd like to do a run and then compare it to what I do by hand. So, I'll modify the above code to give a print out with which I can follow along."
   ]
  },
  {
   "cell_type": "code",
   "execution_count": 82,
   "metadata": {},
   "outputs": [
    {
     "name": "stdout",
     "output_type": "stream",
     "text": [
      "t = 0\n",
      "x = \n",
      "[0.+0.j 0.+0.j 0.+0.j]\n",
      "b = \n",
      "[0.+1.j 0.+0.j 0.+0.j]\n",
      "\n",
      "t = 1\n",
      "x = \n",
      "[0.+1.j 0.+0.j 0.+0.j]\n",
      "b = \n",
      "[0.+0.j 0.+0.j 0.+0.j]\n",
      "\n",
      "t = 2\n",
      "x = \n",
      "[0.+1.j 0.+1.j 0.+1.j]\n",
      "b = \n",
      "[1.+0.j 1.+0.j 0.+0.j]\n",
      "\n",
      "t = 3\n",
      "x = \n",
      "[0.+0.j 0.+0.j 0.+0.j]\n",
      "b = \n",
      "[0.+0.j 0.+1.j 1.+0.j]\n",
      "\n",
      "t = 4\n",
      "x = \n",
      "[0.+0.j 0.+1.j 1.+0.j]\n",
      "b = \n",
      "[1.+0.j 1.+0.j 0.+0.j]\n",
      "\n",
      "t = 5\n",
      "x = \n",
      "[0.+0.j 0.+0.j 1.+0.j]\n",
      "b = \n",
      "[0.+1.j 1.+0.j 0.+0.j]\n",
      "\n",
      "t = 6\n",
      "x = \n",
      "[0.+1.j 0.+0.j 1.+0.j]\n",
      "b = \n",
      "[0.+0.j 1.+0.j 0.+0.j]\n",
      "\n",
      "t = 7\n",
      "x = \n",
      "[0.+1.j 0.+0.j 0.+0.j]\n",
      "b = \n",
      "[1.+0.j 0.+0.j 1.+0.j]\n",
      "\n",
      "t = 8\n",
      "x = \n",
      "[0.+0.j 0.+1.j 0.+0.j]\n",
      "b = \n",
      "[1.+0.j 1.+0.j 1.+0.j]\n",
      "\n",
      "t = 9\n",
      "x = \n",
      "[0.+0.j 0.+0.j 1.+0.j]\n",
      "b = \n",
      "[0.+0.j 0.+1.j 0.+0.j]\n",
      "\n",
      "t = 10\n",
      "x = \n",
      "[0.+0.j 0.+0.j 1.+0.j]\n",
      "b = \n",
      "[1.+0.j 0.+1.j 0.+0.j]\n",
      "\n"
     ]
    }
   ],
   "source": [
    "# Initialize external parameters\n",
    "survival_times = dict()\n",
    "alpha = 0\n",
    "need_injection = True\n",
    "T = 10\n",
    "\n",
    "# Initialize dynamical parameters (t=0)\n",
    "x = get_b(n)\n",
    "\n",
    "# This is the main loop\n",
    "for t in range(0,T+1):\n",
    "    print(\"t = \" + str(t))\n",
    "    print(\"x = \")\n",
    "    print(x)\n",
    "\n",
    "    # Get b_t\n",
    "    b = get_b(n)\n",
    "\n",
    "    # If it is possible and necessary to inject a tracker, do so, and update values accordingly\n",
    "    if (np.sum(b) > 0) and need_injection:\n",
    "        inject_tracker(b)\n",
    "        need_injection = False\n",
    "        alpha += 1\n",
    "        survival_times[alpha] = 1\n",
    "    print(\"b = \")\n",
    "    print(b)\n",
    "    print()\n",
    "    \n",
    "    # Calculate the next state\n",
    "    x = f(np.matmul(A,x) + b)\n",
    "\n",
    "    # Check if message alpha has survived, and if so, update accordingly\n",
    "    if complex(\"j\") in x:\n",
    "        survival_times[alpha] += 1\n",
    "    else:\n",
    "        need_injection = True"
   ]
  },
  {
   "cell_type": "code",
   "execution_count": 83,
   "metadata": {},
   "outputs": [
    {
     "data": {
      "text/plain": [
       "{1: 3, 2: 2, 3: 4, 4: 1, 5: 1}"
      ]
     },
     "execution_count": 83,
     "metadata": {},
     "output_type": "execute_result"
    }
   ],
   "source": [
    "survival_times"
   ]
  },
  {
   "cell_type": "code",
   "execution_count": null,
   "metadata": {},
   "outputs": [],
   "source": []
  },
  {
   "cell_type": "code",
   "execution_count": null,
   "metadata": {},
   "outputs": [],
   "source": []
  },
  {
   "cell_type": "code",
   "execution_count": null,
   "metadata": {},
   "outputs": [],
   "source": []
  },
  {
   "cell_type": "code",
   "execution_count": null,
   "metadata": {},
   "outputs": [],
   "source": []
  },
  {
   "cell_type": "code",
   "execution_count": null,
   "metadata": {},
   "outputs": [],
   "source": []
  },
  {
   "cell_type": "code",
   "execution_count": null,
   "metadata": {},
   "outputs": [],
   "source": []
  },
  {
   "cell_type": "code",
   "execution_count": null,
   "metadata": {},
   "outputs": [],
   "source": []
  },
  {
   "cell_type": "code",
   "execution_count": null,
   "metadata": {},
   "outputs": [],
   "source": []
  },
  {
   "cell_type": "code",
   "execution_count": null,
   "metadata": {},
   "outputs": [],
   "source": []
  },
  {
   "cell_type": "code",
   "execution_count": null,
   "metadata": {},
   "outputs": [],
   "source": []
  },
  {
   "cell_type": "code",
   "execution_count": null,
   "metadata": {},
   "outputs": [],
   "source": []
  }
 ],
 "metadata": {
  "kernelspec": {
   "display_name": "Python 3",
   "language": "python",
   "name": "python3"
  },
  "language_info": {
   "codemirror_mode": {
    "name": "ipython",
    "version": 3
   },
   "file_extension": ".py",
   "mimetype": "text/x-python",
   "name": "python",
   "nbconvert_exporter": "python",
   "pygments_lexer": "ipython3",
   "version": "3.9.2"
  },
  "orig_nbformat": 4,
  "vscode": {
   "interpreter": {
    "hash": "3b66384013171cdfccbfda8d4f96d2b3b6a10bf536bc42f61d1fe50046d47db0"
   }
  }
 },
 "nbformat": 4,
 "nbformat_minor": 2
}

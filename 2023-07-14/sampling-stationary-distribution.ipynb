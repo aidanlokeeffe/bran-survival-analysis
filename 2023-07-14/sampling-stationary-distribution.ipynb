{
 "cells": [
  {
   "cell_type": "code",
   "execution_count": 1,
   "metadata": {},
   "outputs": [],
   "source": [
    "import numpy as np\n",
    "import pandas as pd"
   ]
  },
  {
   "cell_type": "code",
   "execution_count": 3,
   "metadata": {},
   "outputs": [],
   "source": [
    "def get_x0(N):\n",
    "    return np.array( [np.random.choice([0,1]) for i in range(N)] )\n",
    "\n",
    "def get_b(N,p):\n",
    "    return np.array( [np.random.choice([0,1], p=[1-p, p]) for i in range(N)] )\n",
    "\n",
    "def f(z):\n",
    "    return np.array( [int(z[i] == 1) for i in range(len(z))] )\n",
    "\n",
    "def get_index(x):\n",
    "    power = len(x) - 1\n",
    "    \n"
   ]
  },
  {
   "cell_type": "code",
   "execution_count": null,
   "metadata": {},
   "outputs": [],
   "source": []
  }
 ],
 "metadata": {
  "kernelspec": {
   "display_name": "Python 3",
   "language": "python",
   "name": "python3"
  },
  "language_info": {
   "codemirror_mode": {
    "name": "ipython",
    "version": 3
   },
   "file_extension": ".py",
   "mimetype": "text/x-python",
   "name": "python",
   "nbconvert_exporter": "python",
   "pygments_lexer": "ipython3",
   "version": "3.9.2"
  },
  "orig_nbformat": 4
 },
 "nbformat": 4,
 "nbformat_minor": 2
}

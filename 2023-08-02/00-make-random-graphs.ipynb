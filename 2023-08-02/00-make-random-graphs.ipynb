{
 "cells": [
  {
   "cell_type": "code",
   "execution_count": 2,
   "metadata": {},
   "outputs": [],
   "source": [
    "import numpy as np\n",
    "import pandas as pd"
   ]
  },
  {
   "cell_type": "code",
   "execution_count": 112,
   "metadata": {},
   "outputs": [],
   "source": [
    "def erdos_renyi(N, p=0.5):\n",
    "    adj = np.random.choice([0,1], size=N**2, replace=True).reshape((N,N))\n",
    "    return np.array(adj, dtype=int)"
   ]
  },
  {
   "cell_type": "code",
   "execution_count": 105,
   "metadata": {},
   "outputs": [],
   "source": [
    "def directed_scale_free(N, prob_a, prob_b, d_in, d_out):\n",
    "    # Current number of nodes\n",
    "    n = 1\n",
    "\n",
    "    # Initiate the output\n",
    "    adj = np.zeros((N+1,N+1))\n",
    "    adj[0,0] = np.random.choice(a=[0,1], size=1)\n",
    "\n",
    "    # Initialize the time and the edge choice distributions\n",
    "    t = int(np.sum(np.sum(adj)))\n",
    "    p_out = (np.sum(adj[0:n,0:n], axis=0) + d_out) / (t + d_out*n)\n",
    "    p_in  = (np.sum(adj[0:n,0:n], axis=1) + d_in ) / (t + d_in *n)\n",
    "\n",
    "    # Construct the graph\n",
    "    while n <= N:\n",
    "        # Add an edge\n",
    "        choice = np.random.choice(a=[0,1,2], size=1, p=[prob_a, prob_b, 1-prob_a-prob_b])[0]\n",
    "        if choice == 0:\n",
    "            j = n\n",
    "            i = np.random.choice(a=list(range(len(p_in))), size=1, p=p_in)[0]\n",
    "        elif choice == 1:\n",
    "            j = np.random.choice(a=list(range(len(p_out))), size=1, p=p_out)[0]\n",
    "            i = np.random.choice(a=list(range(len(p_in))), size=1, p=p_in)[0]\n",
    "        else:\n",
    "            j = np.random.choice(a=list(range(len(p_out))), size=1, p=p_out)[0]\n",
    "            i = n\n",
    "        adj[i,j] += 1\n",
    "\n",
    "        # Increment various other quantities\n",
    "        t += 1\n",
    "\n",
    "        if choice != 1:\n",
    "            n += 1\n",
    "        \n",
    "        p_out = (np.sum(adj[0:n,0:n], axis=0) + d_out) / (t + d_out*n)\n",
    "        p_in  = (np.sum(adj[0:n,0:n], axis=1) + d_in ) / (t + d_in *n)  \n",
    "\n",
    "    return np.array(adj[0:N,0:N] > 0, dtype=int)  "
   ]
  },
  {
   "cell_type": "code",
   "execution_count": 106,
   "metadata": {},
   "outputs": [],
   "source": [
    "def stochastic_blocks(communities=2):\n",
    "    return np.random.random(size=communities**2).reshape((communities,communities))\n",
    "\n",
    "def stochastic_block_graph(N, blocks):\n",
    "    # Initialize the output\n",
    "    adj = np.zeros((N,N))\n",
    "    communities = blocks.shape[0]\n",
    "\n",
    "    # Create a list representing the community of each node; order doesn't matter\n",
    "    nodes = np.sort(np.random.choice(a=range(communities), size=N, replace=True))\n",
    "\n",
    "    # Place directed edges according to the blocks\n",
    "    for j in range(N):\n",
    "        for i in range(N):\n",
    "            prob = blocks[nodes[i],nodes[j]]\n",
    "            adj[i,j] = np.random.choice(a=[0,1], size=1, p=[1-prob, prob])\n",
    "    \n",
    "    return np.array(adj, dtype=int)"
   ]
  },
  {
   "cell_type": "code",
   "execution_count": 107,
   "metadata": {},
   "outputs": [],
   "source": [
    "w1 = lambda u,v: (2-u-v)/2\n",
    "w2 = lambda u,v: (1-u-v)/2\n",
    "w3 = lambda u,v: (1+u-v)/2\n",
    "w4 = lambda u,v: -2*((u-0.5)**2 + (v-0.5)**2)+1\n",
    "\n",
    "def graphon_sample(N, graphon):\n",
    "    # Initialize the output\n",
    "    adj = np.zeros((N,N))\n",
    "\n",
    "    # Get a sorted list of uniformly random numbers\n",
    "    nodes = sorted(np.random.random(size=N))\n",
    "\n",
    "    # Populate the output\n",
    "    for j in range(N):\n",
    "        for i in range(N):\n",
    "            v = nodes[j]\n",
    "            u = nodes[i]\n",
    "            prob = graphon(u,v)\n",
    "            adj[i,j] = np.random.choice(a=[0,1], size=1, p=[1-prob, prob])\n",
    "    \n",
    "    return np.array(adj, dtype=int)"
   ]
  },
  {
   "cell_type": "code",
   "execution_count": 108,
   "metadata": {},
   "outputs": [],
   "source": [
    "np.savetxt(\"test.csv\", X=np.array([0,1,2,3]), delimiter=\",\")"
   ]
  },
  {
   "cell_type": "code",
   "execution_count": 116,
   "metadata": {},
   "outputs": [],
   "source": [
    "N = 10\n",
    "er10 = erdos_renyi(N, p=0.25)\n",
    "np.savetxt(\"erdos-renyi_10_0.25.csv\", X=er10, fmt=\"%d\", delimiter=\",\",)"
   ]
  },
  {
   "cell_type": "code",
   "execution_count": 117,
   "metadata": {},
   "outputs": [],
   "source": [
    "N = 10\n",
    "er10 = erdos_renyi(N, p=0.50)\n",
    "np.savetxt(\"erdos-renyi_10_0.50.csv\", X=er10, fmt=\"%d\", delimiter=\",\",)"
   ]
  },
  {
   "cell_type": "code",
   "execution_count": 118,
   "metadata": {},
   "outputs": [],
   "source": [
    "N = 10\n",
    "er10 = erdos_renyi(N, p=0.75)\n",
    "np.savetxt(\"erdos-renyi_10_0.50.csv\", X=er10, fmt=\"%d\", delimiter=\",\",)"
   ]
  },
  {
   "cell_type": "code",
   "execution_count": 121,
   "metadata": {},
   "outputs": [],
   "source": [
    "N = 10\n",
    "dir_net = directed_scale_free(N, 0.25, 0.5, d_in=10, d_out=10)\n",
    "np.savetxt(\"directed-scale-free_10_0.25_0.5_10_10.csv\", X=er10, fmt=\"%d\", delimiter=\",\")"
   ]
  },
  {
   "cell_type": "code",
   "execution_count": 124,
   "metadata": {},
   "outputs": [],
   "source": [
    "blocks2 = stochastic_blocks(2)\n",
    "blocks3 = stochastic_blocks(3)\n",
    "blocks4 = stochastic_blocks(4)\n",
    "np.savetxt(\"blocks2.csv\", X=blocks2, delimiter=\",\")\n",
    "np.savetxt(\"blocks3.csv\", X=blocks2, delimiter=\",\")\n",
    "np.savetxt(\"blocks4.csv\", X=blocks2, delimiter=\",\")"
   ]
  },
  {
   "cell_type": "code",
   "execution_count": 125,
   "metadata": {},
   "outputs": [
    {
     "data": {
      "text/plain": [
       "array([[0.74019105, 0.16029916],\n",
       "       [0.69295959, 0.24997569]])"
      ]
     },
     "execution_count": 125,
     "metadata": {},
     "output_type": "execute_result"
    }
   ],
   "source": []
  },
  {
   "cell_type": "code",
   "execution_count": null,
   "metadata": {},
   "outputs": [],
   "source": []
  }
 ],
 "metadata": {
  "kernelspec": {
   "display_name": "Python 3",
   "language": "python",
   "name": "python3"
  },
  "language_info": {
   "codemirror_mode": {
    "name": "ipython",
    "version": 3
   },
   "file_extension": ".py",
   "mimetype": "text/x-python",
   "name": "python",
   "nbconvert_exporter": "python",
   "pygments_lexer": "ipython3",
   "version": "3.9.2"
  },
  "orig_nbformat": 4
 },
 "nbformat": 4,
 "nbformat_minor": 2
}

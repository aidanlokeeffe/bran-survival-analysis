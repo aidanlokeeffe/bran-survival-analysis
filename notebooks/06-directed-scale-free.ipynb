{
 "cells": [
  {
   "cell_type": "code",
   "execution_count": 1,
   "metadata": {},
   "outputs": [],
   "source": [
    "import numpy as np"
   ]
  },
  {
   "cell_type": "code",
   "execution_count": 2,
   "metadata": {},
   "outputs": [],
   "source": [
    "seed_graph = np.array([[1,2],[3,4]])"
   ]
  },
  {
   "cell_type": "code",
   "execution_count": 7,
   "metadata": {},
   "outputs": [
    {
     "data": {
      "text/plain": [
       "array([[0, 1],\n",
       "       [1, 0]])"
      ]
     },
     "execution_count": 7,
     "metadata": {},
     "output_type": "execute_result"
    }
   ],
   "source": [
    "def directed_scale_free(n):\n",
    "    adjacency_matrix = np.zeros((n,n))\n",
    "    adjacency_matrix[0,1] += 1\n",
    "    adjacency_matrix[1,0] += 1\n",
    "\n",
    "    t = 2\n",
    "\n",
    "    for i in range(2):\n",
    "        for j in range(2):\n",
    "            if i != j:\n",
    "                edge_increment = np.random.choice([0,1])\n",
    "                adjacency_matrix[i,j] += edge_increment\n",
    "                t += edge_increment\n",
    "\n",
    "\n",
    "    # Initialize various parameters\n",
    "    n_current = 2\n",
    "    prob_a = 0.25\n",
    "    prob_b = 0.5\n",
    "    prob_c = 0.25\n",
    "    delta_in = 0.6666666666666667\n",
    "    delta_out = 0.6666666666666667\n",
    "\n",
    "    \n",
    "    in_numerators = np.sum(adjacency_matrix, axis=1) + delta_in\n",
    "    in_denominator = t + delta_in*n_current\n",
    "    out_numerators = np.sum(adjacency_matrix, axis=0) + delta_out\n",
    "    out_denominator = t + delta_out*n_current\n",
    "\n",
    "    while n_current <= n:\n",
    "        # Choose action\n",
    "        action = np.random.choice([\"A\", \"B\", \"C\"], p=[prob_a, prob_b, prob_c])\n",
    "        \n",
    "        try:\n",
    "            if action == \"A\":\n",
    "                pass\n",
    "            elif action == \"B\":\n",
    "                pass\n",
    "            else:\n",
    "                pass\n",
    "\n",
    "            # Update the in_numerators, etc\n",
    "\n",
    "        except IndexError:\n",
    "            break\n",
    "\n",
    "    \n"
   ]
  },
  {
   "cell_type": "code",
   "execution_count": 5,
   "metadata": {},
   "outputs": [],
   "source": [
    "seed_graph[1,1] += 4"
   ]
  },
  {
   "cell_type": "code",
   "execution_count": 12,
   "metadata": {},
   "outputs": [
    {
     "data": {
      "text/plain": [
       "array([ 4, 10])"
      ]
     },
     "execution_count": 12,
     "metadata": {},
     "output_type": "execute_result"
    }
   ],
   "source": [
    "np.sum(seed_graph, axis=0)"
   ]
  },
  {
   "cell_type": "code",
   "execution_count": 6,
   "metadata": {},
   "outputs": [
    {
     "data": {
      "text/plain": [
       "array([[1, 2],\n",
       "       [3, 8]])"
      ]
     },
     "execution_count": 6,
     "metadata": {},
     "output_type": "execute_result"
    }
   ],
   "source": [
    "seed_graph"
   ]
  },
  {
   "cell_type": "code",
   "execution_count": 10,
   "metadata": {},
   "outputs": [
    {
     "data": {
      "text/plain": [
       "0.6666666666666666"
      ]
     },
     "execution_count": 10,
     "metadata": {},
     "output_type": "execute_result"
    }
   ],
   "source": [
    "2/3"
   ]
  },
  {
   "cell_type": "code",
   "execution_count": 16,
   "metadata": {},
   "outputs": [
    {
     "data": {
      "text/plain": [
       "'B'"
      ]
     },
     "execution_count": 16,
     "metadata": {},
     "output_type": "execute_result"
    }
   ],
   "source": [
    "np.random.choice([\"A\", \"B\"])"
   ]
  },
  {
   "cell_type": "code",
   "execution_count": null,
   "metadata": {},
   "outputs": [],
   "source": []
  }
 ],
 "metadata": {
  "kernelspec": {
   "display_name": "Python 3",
   "language": "python",
   "name": "python3"
  },
  "language_info": {
   "codemirror_mode": {
    "name": "ipython",
    "version": 3
   },
   "file_extension": ".py",
   "mimetype": "text/x-python",
   "name": "python",
   "nbconvert_exporter": "python",
   "pygments_lexer": "ipython3",
   "version": "3.9.2"
  },
  "orig_nbformat": 4
 },
 "nbformat": 4,
 "nbformat_minor": 2
}

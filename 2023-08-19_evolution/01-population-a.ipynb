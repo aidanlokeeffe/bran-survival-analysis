{
 "cells": [
  {
   "cell_type": "code",
   "execution_count": 2,
   "metadata": {},
   "outputs": [],
   "source": [
    "import numpy as np\n",
    "import pandas as pd"
   ]
  },
  {
   "cell_type": "code",
   "execution_count": 7,
   "metadata": {},
   "outputs": [],
   "source": [
    "# Elt 0: directed 10 cycle\n",
    "adj = np.array([\n",
    "    [0, 0, 0, 0, 0, 0, 0, 0, 0, 1],\n",
    "    [1, 0, 0, 0, 0, 0, 0, 0, 0, 0],\n",
    "    [0, 1, 0, 0, 0, 0, 0, 0, 0, 0],\n",
    "    [0, 0, 1, 0, 0, 0, 0, 0, 0, 0],\n",
    "    [0, 0, 0, 1, 0, 0, 0, 0, 0, 0],\n",
    "    [0, 0, 0, 0, 1, 0, 0, 0, 0, 0],\n",
    "    [0, 0, 0, 0, 0, 1, 0, 0, 0, 0],\n",
    "    [0, 0, 0, 0, 0, 0, 1, 0, 0, 0],\n",
    "    [0, 0, 0, 0, 0, 0, 0, 1, 0, 0],\n",
    "    [0, 0, 0, 0, 0, 0, 0, 0, 1, 0]\n",
    "], dtype=int)\n",
    "np.savetxt(\"gen0/elt0.csv\", X=adj, fmt=\"%d\")"
   ]
  },
  {
   "cell_type": "code",
   "execution_count": 45,
   "metadata": {},
   "outputs": [],
   "source": [
    "# Elts 1, 2: more directed 10 cycles\n",
    "for m in range(1, 3):\n",
    "    while True:\n",
    "        edges = np.random.choice(range(10), size=10, replace=False)\n",
    "        if all([i != edge for i, edge in enumerate(edges)]):\n",
    "            break\n",
    "    \n",
    "    adj = np.zeros((10, 10), dtype=int)\n",
    "    for j, i in enumerate(edges):\n",
    "        adj[i, j] = 1\n",
    "    np.savetxt(\"gen0/elt\"+str(m)+\".csv\", X=adj, fmt=\"%d\")\n",
    "\n",
    "\n"
   ]
  },
  {
   "cell_type": "code",
   "execution_count": 96,
   "metadata": {},
   "outputs": [],
   "source": [
    "# Elts 3, 4, 5: a small cycle adjoined to an ER graph\n",
    "for m in range(3, 6):\n",
    "    num_in_cycle = np.random.choice(range(5, 7))\n",
    "    cycle_idx = np.sort(np.random.choice(range(10), size=num_in_cycle, replace=False))\n",
    "    erdos_idx = np.sort(list(set(range(10)) - set(cycle_idx)))\n",
    "\n",
    "    # Initialize adj\n",
    "    adj = np.zeros((10, 10))\n",
    "\n",
    "    # Populate the cycle\n",
    "    for idx in range(num_in_cycle):\n",
    "        j = cycle_idx[idx]\n",
    "        i = cycle_idx[(idx + 1) % num_in_cycle]\n",
    "        adj[i, j] = 1\n",
    "\n",
    "    # Fill in the random edges \n",
    "    for i in range(10):\n",
    "        for j in range(10):\n",
    "            if i in cycle_idx and j in cycle_idx:\n",
    "                continue\n",
    "            adj[i, j] = int(np.round(np.random.sample()))\n",
    "\n",
    "    np.savetxt(\"gen0/elt\"+str(m)+\".csv\", X=adj, fmt=\"%d\")\n"
   ]
  },
  {
   "cell_type": "code",
   "execution_count": 101,
   "metadata": {},
   "outputs": [],
   "source": [
    "# Elt 6: Two cycles joined at one node\n",
    "adj = np.zeros((10, 10), dtype=int)\n",
    "adj[0, 1] = 1\n",
    "adj[1, 2] = 1\n",
    "adj[2, 3] = 1\n",
    "adj[3, 4] = 1\n",
    "adj[4, 0] = 1\n",
    "adj[2, 5] = 1\n",
    "adj[5, 6] = 1\n",
    "adj[6, 7] = 1\n",
    "adj[7, 8] = 1\n",
    "adj[8, 9] = 1\n",
    "adj[9, 2] = 1\n",
    "np.savetxt(\"gen0/elt6.csv\", X=adj, fmt=\"%d\")"
   ]
  },
  {
   "cell_type": "code",
   "execution_count": 102,
   "metadata": {},
   "outputs": [],
   "source": [
    "# Elt 7: Two cycles joined at one node\n",
    "adj = np.zeros((10, 10), dtype=int)\n",
    "adj[0, 1] = 1\n",
    "adj[1, 2] = 1\n",
    "adj[2, 0] = 1\n",
    "adj[2, 3] = 1\n",
    "adj[3, 4] = 1\n",
    "adj[4, 5] = 1\n",
    "adj[5, 6] = 1\n",
    "adj[6, 7] = 1\n",
    "adj[7, 8] = 1\n",
    "adj[8, 9] = 1\n",
    "adj[9, 2] = 1\n",
    "np.savetxt(\"gen0/elt7.csv\", X=adj, fmt=\"%d\")"
   ]
  },
  {
   "cell_type": "code",
   "execution_count": 104,
   "metadata": {},
   "outputs": [],
   "source": [
    "# Elt 8: Three cycles joined at two nodes\n",
    "adj = np.zeros((10, 10), dtype=int)\n",
    "adj[0, 1] = 1\n",
    "adj[1, 2] = 1\n",
    "adj[2, 0] = 1\n",
    "adj[2, 3] = 1\n",
    "adj[3, 4] = 1\n",
    "adj[4, 5] = 1\n",
    "adj[5, 2] = 1\n",
    "adj[1, 6] = 1\n",
    "adj[6, 7] = 1\n",
    "adj[7, 8] = 1\n",
    "adj[8, 9] = 1\n",
    "adj[9, 1] = 1\n",
    "np.savetxt(\"gen0/elt8.csv\", X=adj, fmt=\"%d\")"
   ]
  },
  {
   "cell_type": "code",
   "execution_count": 106,
   "metadata": {},
   "outputs": [],
   "source": [
    "# Elt 9: 4 joined cycles which share no edges\n",
    "# Umm, I got this backwards from my drawing because the from-j-to-i convention confuses me, but \n",
    "# oh well, it still contributes to diversity\n",
    "adj = np.zeros((10, 10), dtype=int)\n",
    "adj[0, 1] = 1\n",
    "adj[1, 0] = 1\n",
    "adj[1, 2] = 1\n",
    "adj[2, 3] = 1\n",
    "adj[3, 4] = 1\n",
    "adj[4, 5] = 1\n",
    "adj[5, 1] = 1\n",
    "adj[3, 6] = 1\n",
    "adj[6, 3] = 1\n",
    "adj[4, 7] = 1\n",
    "adj[7, 8] = 1\n",
    "adj[8, 9] = 1\n",
    "adj[9, 4] = 1\n",
    "np.savetxt(\"gen0/elt9.csv\", X=adj, fmt=\"%d\")"
   ]
  },
  {
   "cell_type": "code",
   "execution_count": 108,
   "metadata": {},
   "outputs": [],
   "source": [
    "# Elt 10: Literally a drunk graph\n",
    "adj = np.array([\n",
    "    [1, 0, 0, 0, 0, 0, 0, 0, 0, 0],\n",
    "    [0, 0, 0, 0, 1, 1, 1, 0, 0, 0],\n",
    "    [0, 1, 1, 0, 0, 0, 0, 1, 0, 0],\n",
    "    [0, 0, 1, 0, 0, 1, 0, 0, 0, 0],\n",
    "    [1, 0, 0, 1, 0, 0, 0, 0, 0, 0],\n",
    "    [0, 1, 0, 0, 0, 0, 0, 1, 0, 0],\n",
    "    [1, 0, 0, 0, 0, 1, 0, 0, 0, 0],\n",
    "    [0, 0, 0, 0, 0, 0, 1, 0, 0, 0],\n",
    "    [0, 0, 0, 0, 0, 1, 0, 0, 0, 1],\n",
    "    [0, 0, 0, 0, 0, 0, 0, 0, 1, 0],\n",
    "])\n",
    "np.savetxt(\"gen0/elt10.csv\", X=adj, fmt=\"%d\")"
   ]
  },
  {
   "cell_type": "code",
   "execution_count": 112,
   "metadata": {},
   "outputs": [],
   "source": [
    "# Elt 11: Literally a drunk graph\n",
    "adj = np.array([\n",
    "    [0, 0, 0, 0, 0, 0, 1, 0, 1, 0],\n",
    "    [0, 0, 0, 0, 0, 0, 0, 0, 0, 0],\n",
    "    [0, 0, 0, 0, 0, 0, 1, 0, 0, 1],\n",
    "    [0, 0, 0, 1, 0, 0, 1, 0, 0, 0],\n",
    "    [1, 0, 0, 0, 0, 0, 0, 0, 0, 0],\n",
    "    [0, 0, 0, 1, 0, 1, 0, 1, 0, 0],\n",
    "    [0, 0, 1, 0, 1, 1, 0, 0, 1, 0],\n",
    "    [0, 1, 0, 0, 0, 0, 0, 0, 0, 0],\n",
    "    [1, 0, 0, 0, 0, 0, 0, 0, 0, 0],\n",
    "    [0, 0, 0, 0, 0, 0, 1, 0, 0, 0],\n",
    "])\n",
    "np.savetxt(\"gen0/elt11.csv\", X=adj, fmt=\"%d\")"
   ]
  },
  {
   "cell_type": "code",
   "execution_count": 111,
   "metadata": {},
   "outputs": [],
   "source": [
    "# Elt 12: Just a path graph with a loop at the end\n",
    "adj = np.zeros((10, 10))\n",
    "adj[1, 0] = 1\n",
    "adj[2, 1] = 1\n",
    "adj[3, 2] = 1\n",
    "adj[4, 3] = 1\n",
    "adj[5, 4] = 1\n",
    "adj[6, 5] = 1\n",
    "adj[7, 6] = 1\n",
    "adj[8, 7] = 1\n",
    "adj[9, 8] = 1\n",
    "adj[9, 9] = 1\n",
    "np.savetxt(\"gen0/elt12.csv\", X=adj, fmt=\"%d\")"
   ]
  },
  {
   "cell_type": "code",
   "execution_count": 3,
   "metadata": {},
   "outputs": [],
   "source": [
    "# 13: cycle with one node that can end it all\n",
    "adj = np.zeros((10, 10), dtype=int)\n",
    "adj[0, 4] = 1\n",
    "adj[4, 6] = 1\n",
    "adj[6, 8] = 1\n",
    "adj[8, 2] = 1\n",
    "adj[2, 5] = 1\n",
    "adj[5, 7] = 1\n",
    "adj[7, 1] = 1\n",
    "adj[1, 9] = 1\n",
    "adj[9, 0] = 1\n",
    "for i in range(10):\n",
    "    adj[i, 3] = 1\n",
    "np.savetxt(\"gen0/elt13.csv\", X=adj, fmt=\"%d\")"
   ]
  },
  {
   "cell_type": "code",
   "execution_count": 4,
   "metadata": {},
   "outputs": [],
   "source": [
    "# 14: cycles upon cycles; I just have a feeling this will have a really high survival time\n",
    "adj = np.zeros((10, 10), dtype=int)\n",
    "adj[6, 6] = 1\n",
    "adj[8, 6] = 1\n",
    "adj[7, 6] = 1\n",
    "adj[2, 8] = 1\n",
    "adj[4, 8] = 1\n",
    "adj[5, 2] = 1\n",
    "adj[9, 2] = 1\n",
    "adj[3, 5] = 1\n",
    "adj[1, 5] = 1\n",
    "adj[0, 3] = 1\n",
    "adj[6, 0] = 1\n",
    "adj[6, 1] = 1\n",
    "adj[6, 9] = 1\n",
    "adj[6, 4] = 1\n",
    "adj[6, 7] = 1\n",
    "np.savetxt(\"gen0/elt14.csv\", X=adj, fmt=\"%d\")"
   ]
  },
  {
   "cell_type": "code",
   "execution_count": 8,
   "metadata": {},
   "outputs": [],
   "source": [
    "def erdos_renyi(N, p):\n",
    "    return np.random.choice(a=[0,1], size=N**2, replace=True, p=[1-p, p]).reshape((N,N))"
   ]
  },
  {
   "cell_type": "code",
   "execution_count": 12,
   "metadata": {},
   "outputs": [],
   "source": [
    "N = 10\n",
    "for i in range(15, 100):\n",
    "    p = np.random.sample()\n",
    "    adj = erdos_renyi(10, p)\n",
    "    np.savetxt(\"gen0/elt{i}.csv\".format(i=i), X=adj, fmt=\"%d\")\n"
   ]
  },
  {
   "cell_type": "code",
   "execution_count": null,
   "metadata": {},
   "outputs": [],
   "source": []
  }
 ],
 "metadata": {
  "kernelspec": {
   "display_name": "Python 3",
   "language": "python",
   "name": "python3"
  },
  "language_info": {
   "codemirror_mode": {
    "name": "ipython",
    "version": 3
   },
   "file_extension": ".py",
   "mimetype": "text/x-python",
   "name": "python",
   "nbconvert_exporter": "python",
   "pygments_lexer": "ipython3",
   "version": "3.9.2"
  },
  "orig_nbformat": 4
 },
 "nbformat": 4,
 "nbformat_minor": 2
}

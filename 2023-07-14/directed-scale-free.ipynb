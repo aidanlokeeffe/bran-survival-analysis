{
 "cells": [
  {
   "cell_type": "code",
   "execution_count": 1,
   "metadata": {},
   "outputs": [],
   "source": [
    "import pandas as pd\n",
    "import numpy as np"
   ]
  },
  {
   "cell_type": "code",
   "execution_count": 2,
   "metadata": {},
   "outputs": [],
   "source": [
    "# Target number of nodes\n",
    "N = 10"
   ]
  },
  {
   "cell_type": "code",
   "execution_count": 61,
   "metadata": {},
   "outputs": [],
   "source": [
    "a = 0.125\n",
    "b = 0.75\n",
    "c = 1 - b - a\n",
    "\n",
    "d_in = 1\n",
    "d_out = 1"
   ]
  },
  {
   "cell_type": "code",
   "execution_count": 198,
   "metadata": {},
   "outputs": [
    {
     "name": "stdout",
     "output_type": "stream",
     "text": [
      "[[1 1 0 0 0 0 0 0 0 0]\n",
      " [0 1 1 0 0 1 0 0 0 0]\n",
      " [0 1 1 0 0 0 0 0 0 0]\n",
      " [0 1 1 0 0 0 0 0 0 0]\n",
      " [1 1 0 0 0 0 0 0 0 0]\n",
      " [0 0 0 0 1 0 0 0 0 0]\n",
      " [1 0 0 1 0 0 0 1 0 0]\n",
      " [0 1 0 0 0 0 0 0 0 0]\n",
      " [0 1 0 0 0 0 0 0 0 0]\n",
      " [1 0 0 0 0 0 0 0 0 0]]\n",
      "[4 7 3 1 1 1 0 1 0 0]\n",
      "[2 3 2 2 2 1 3 1 1 1]\n"
     ]
    }
   ],
   "source": [
    "# Initialize the adjacency matrix\n",
    "adj = np.zeros((N+1,N+1))\n",
    "# MAKE SURE TO TAKE THE APPROPRIATE SLICE WHEN YOU PULL OUT\n",
    "# THE ADJACENCY MATRIX\n",
    "\n",
    "# Current number of nodes\n",
    "n = 1\n",
    "\n",
    "# Make a random choice between having a lone node or a node with a loop\n",
    "adj[0,0] = np.random.choice(a=[0,1], size=1)\n",
    "\n",
    "# Set the time to the number of edges\n",
    "t = int(np.sum(np.sum(adj)))\n",
    "\n",
    "# Initialize the edge choice distributions\n",
    "p_out = (np.sum(adj[0:n,0:n], axis=0) + d_out) / (t + d_out*n)\n",
    "p_in  = (np.sum(adj[0:n,0:n], axis=1) + d_in ) / (t + d_in *n)\n",
    "\n",
    "while n <= N:\n",
    "    # Increment time; you'll add an edge no matter what\n",
    "    t += 1\n",
    "\n",
    "    # Make a choice and add an edge appropriately\n",
    "    choice = np.random.choice(a=[0,1,2], size=1, p=[a,b,c])[0]\n",
    "    if choice == 0:\n",
    "        j = n\n",
    "        i = np.random.choice(a=list(range(len(p_in))), size=1, p=p_in)[0]\n",
    "    elif choice == 1:\n",
    "        j = np.random.choice(a=list(range(len(p_out))), size=1, p=p_out)[0]\n",
    "        i = np.random.choice(a=list(range(len(p_in))), size=1, p=p_in)[0]\n",
    "    else:\n",
    "        j = np.random.choice(a=list(range(len(p_out))), size=1, p=p_out)[0]\n",
    "        i = n\n",
    "    adj[i,j] += 1\n",
    "\n",
    "    # Increment number of nodes\n",
    "    if choice != 1:\n",
    "        n += 1\n",
    "\n",
    "    # Increment probability distributions\n",
    "    p_out = (np.sum(adj[0:n,0:n], axis=0) + d_out) / (t + d_out*n)\n",
    "    p_in  = (np.sum(adj[0:n,0:n], axis=1) + d_in ) / (t + d_in *n)\n",
    "\n",
    "adj = np.array(adj[0:N, 0:N] > 0, dtype=int)"
   ]
  },
  {
   "cell_type": "code",
   "execution_count": null,
   "metadata": {},
   "outputs": [],
   "source": []
  },
  {
   "cell_type": "code",
   "execution_count": 219,
   "metadata": {},
   "outputs": [],
   "source": [
    "# Simple directed stochastic block model (all blocks are same size)\n",
    "communities = 3\n",
    "num_blocks = communities**2\n",
    "blocks = np.random.random(size = num_blocks).reshape((communities, communities))\n",
    "\n",
    "# Number of nodes\n",
    "N = 10\n",
    "adj = np.zeros((N,N))\n",
    "\n",
    "# Randomly place these nodes in communities\n",
    "# Sorting changes nothing, and hopefully makes the adjacency matrix better\n",
    "# resemble the graphon if you were to take the correct average on \n",
    "# adjacency matrices with large N\n",
    "comm = np.sort(np.random.choice(a=range(communities), size=N, replace=True))\n",
    "\n",
    "# Place directed edges according to the blocks\n",
    "for j in range(N):\n",
    "    for i in range(N):\n",
    "        prob = blocks[comm[i],comm[j]]\n",
    "        adj[i,j] = np.random.choice(a=[0,1], size=1, p=[1-prob, prob])"
   ]
  },
  {
   "cell_type": "code",
   "execution_count": 220,
   "metadata": {},
   "outputs": [
    {
     "data": {
      "text/plain": [
       "array([[1., 0., 0., 0., 0., 0., 0., 0., 0., 0.],\n",
       "       [0., 1., 0., 0., 0., 0., 0., 1., 0., 0.],\n",
       "       [0., 0., 0., 1., 0., 0., 1., 0., 0., 1.],\n",
       "       [0., 0., 0., 1., 1., 1., 0., 1., 1., 0.],\n",
       "       [0., 0., 0., 0., 0., 1., 0., 1., 1., 1.],\n",
       "       [1., 0., 1., 1., 0., 1., 1., 1., 1., 1.],\n",
       "       [0., 1., 1., 1., 0., 1., 1., 1., 1., 0.],\n",
       "       [0., 0., 1., 0., 0., 1., 0., 1., 0., 0.],\n",
       "       [0., 0., 0., 0., 0., 0., 0., 1., 1., 0.],\n",
       "       [0., 0., 0., 0., 0., 0., 1., 0., 0., 1.]])"
      ]
     },
     "execution_count": 220,
     "metadata": {},
     "output_type": "execute_result"
    }
   ],
   "source": [
    "adj"
   ]
  },
  {
   "cell_type": "code",
   "execution_count": null,
   "metadata": {},
   "outputs": [],
   "source": []
  },
  {
   "cell_type": "code",
   "execution_count": 232,
   "metadata": {},
   "outputs": [],
   "source": [
    "# A \"bounded plane\" digraphon\n",
    "W1 = np.array([0.5,0.5,0.5])\n",
    "W2 = np.array([1,  0.5,0])\n",
    "W3 = np.array([1, 1, 0.5])\n",
    "\n",
    "def get_plane(W1, W2, W3):\n",
    "    u1 = W1[0]; v1 = W1[1]; w1 = W1[2]\n",
    "    u2 = W2[0]; v2 = W2[1]; w2 = W2[2]\n",
    "    u3 = W3[0]; v3 = W3[1]; w3 = W3[2]\n",
    "    def plane(u,v):\n",
    "        const = u1*(v2*w3-v3*w2) + v1*(u3*w2-u2*w3) + w1*(u2*v3-u3*v2)\n",
    "        v_part = -(u3*w2-u2*w3)*v\n",
    "        u_part = -(v2*w3-v3*w2)*u\n",
    "        return (const+v_part+u_part)/(u2*v3-u3*v2)\n",
    "    return plane\n",
    "        "
   ]
  },
  {
   "cell_type": "code",
   "execution_count": 233,
   "metadata": {},
   "outputs": [],
   "source": [
    "plane = get_plane(W1,W2,W3)"
   ]
  },
  {
   "cell_type": "code",
   "execution_count": 234,
   "metadata": {},
   "outputs": [
    {
     "data": {
      "text/plain": [
       "0.5"
      ]
     },
     "execution_count": 234,
     "metadata": {},
     "output_type": "execute_result"
    }
   ],
   "source": [
    "plane(0.5,0.5)"
   ]
  },
  {
   "cell_type": "code",
   "execution_count": 235,
   "metadata": {},
   "outputs": [
    {
     "data": {
      "text/plain": [
       "0.25"
      ]
     },
     "execution_count": 235,
     "metadata": {},
     "output_type": "execute_result"
    }
   ],
   "source": [
    "plane(1, 0.5)\n",
    "# Darn it, this is wrong. Try again sometime soon."
   ]
  },
  {
   "cell_type": "code",
   "execution_count": 236,
   "metadata": {},
   "outputs": [
    {
     "data": {
      "text/plain": [
       "0.75"
      ]
     },
     "execution_count": 236,
     "metadata": {},
     "output_type": "execute_result"
    }
   ],
   "source": [
    "plane(1,1)"
   ]
  },
  {
   "cell_type": "code",
   "execution_count": null,
   "metadata": {},
   "outputs": [],
   "source": []
  }
 ],
 "metadata": {
  "kernelspec": {
   "display_name": "Python 3",
   "language": "python",
   "name": "python3"
  },
  "language_info": {
   "codemirror_mode": {
    "name": "ipython",
    "version": 3
   },
   "file_extension": ".py",
   "mimetype": "text/x-python",
   "name": "python",
   "nbconvert_exporter": "python",
   "pygments_lexer": "ipython3",
   "version": "3.9.2"
  },
  "orig_nbformat": 4
 },
 "nbformat": 4,
 "nbformat_minor": 2
}

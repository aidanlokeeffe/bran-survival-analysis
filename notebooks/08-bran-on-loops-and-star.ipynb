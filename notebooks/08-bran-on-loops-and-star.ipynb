{
 "cells": [
  {
   "cell_type": "code",
   "execution_count": 1,
   "metadata": {},
   "outputs": [],
   "source": [
    "import numpy as np\n",
    "import matplotlib.pyplot as plt\n",
    "\n",
    "from bran import BrAn"
   ]
  },
  {
   "cell_type": "code",
   "execution_count": 2,
   "metadata": {},
   "outputs": [],
   "source": [
    "%matplotlib widget"
   ]
  },
  {
   "attachments": {},
   "cell_type": "markdown",
   "metadata": {},
   "source": [
    "The purpose of this notebook is to see which of two very simple graphs has the longer expected survival time.\n",
    "\n",
    "Ultimately, I am interested in finding a graph with the longest expected survival time. This is so that I can apply a result from the book _Large Networks and Graph Limits_ by Lovasz:\n",
    "\n",
    "__Theorem 10.3__ (__Sample Concentration for Graphons__). (a) Let $f$ be a graph parameter such that for any two graphs $G$ and $G\\prime$ on the same node set, $|f(G) - f(G\\prime)| \\leq 1,$ let $W \\in W_0,$ and let $k \\geq 1.$ Let $f_0 = E(f(\\mathbb{G}(k,W))).$ Then for every $t \\geq 0,$ \n",
    "$$ P\\left( f(\\mathbb{G}(k,W)) \\geq f_0 + \\sqrt{2tk} \\right) \\leq e^{-t}.$$\n",
    "\n",
    "Wait a minute, wait a minute! The author gives a note, \"The following thereom asserts that every reasonable smooth parameter of a sample graph is highly concentrated. (Note: we don't say anything here about the connection between the value of the parameter on the whole graph and on the sample! We return to this question in Chapter 15.)\" So this result is a little weaker than I'd like, but I think it may still be useful once I move on to the stuff in chapter 15.\n",
    "\n",
    "So, I don't believe I can prove that the mean survival time $\\mu_S(G)$ obeys the bound given on $f$ in the theorem. However, if I knew the longest possible mean survival time for a graph on $k$ nodes, call it $\\mu_{max}(k),$ then the function $f(G) = \\frac{\\mu_S(G)}{\\mu_{max}(k)}$ would satisfy that bound, and therefore \n",
    "$$ P\\left( \\mu_S(\\mathbb{G}(k,W)) \\geq \\mu_{S,0} + \\sqrt{2 t\\mu_{max}(k)^2 k} \\right) \\leq e^{-t\\mu_{max}(k)^2}.$$\n",
    "\n",
    "I'm honestly still not sure how this would play out. I think what this means is that we need to choose $t$ to be really small if we want to have high confidence that the estimated mean survival time is close to the true mean survival time on graphs of $k$ nodes. "
   ]
  },
  {
   "cell_type": "code",
   "execution_count": null,
   "metadata": {},
   "outputs": [],
   "source": []
  },
  {
   "cell_type": "code",
   "execution_count": null,
   "metadata": {},
   "outputs": [],
   "source": []
  },
  {
   "cell_type": "code",
   "execution_count": null,
   "metadata": {},
   "outputs": [],
   "source": []
  },
  {
   "cell_type": "code",
   "execution_count": null,
   "metadata": {},
   "outputs": [],
   "source": []
  }
 ],
 "metadata": {
  "kernelspec": {
   "display_name": "Python 3",
   "language": "python",
   "name": "python3"
  },
  "language_info": {
   "codemirror_mode": {
    "name": "ipython",
    "version": 3
   },
   "file_extension": ".py",
   "mimetype": "text/x-python",
   "name": "python",
   "nbconvert_exporter": "python",
   "pygments_lexer": "ipython3",
   "version": "3.9.2"
  },
  "orig_nbformat": 4,
  "vscode": {
   "interpreter": {
    "hash": "3b66384013171cdfccbfda8d4f96d2b3b6a10bf536bc42f61d1fe50046d47db0"
   }
  }
 },
 "nbformat": 4,
 "nbformat_minor": 2
}

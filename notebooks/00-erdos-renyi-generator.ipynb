{
 "cells": [
  {
   "cell_type": "code",
   "execution_count": 1,
   "metadata": {},
   "outputs": [],
   "source": [
    "import numpy as np\n",
    "import pandas as pd\n",
    "import random"
   ]
  },
  {
   "cell_type": "code",
   "execution_count": 2,
   "metadata": {},
   "outputs": [],
   "source": [
    "def erdos_renyi(n=1, p=0.5):\n",
    "    if n < 1 or type(n) != int:\n",
    "        raise ValueError(\"n must be an positive integer.\")\n",
    "    if p < 0 or p > 1:\n",
    "        raise ValueError(\"p must be between 0 and 1.\")\n",
    "    \n",
    "    out = np.zeros((n,n))\n",
    "\n",
    "    for j in range(n):\n",
    "        for i in range(n):\n",
    "            out[i,j] = random.choice([0,1])\n",
    "    \n",
    "    return out.astype(int)\n"
   ]
  },
  {
   "cell_type": "code",
   "execution_count": 3,
   "metadata": {},
   "outputs": [],
   "source": [
    "for i in range(0,10):\n",
    "    outname = \"00-small-networks/network\"+str(i)+\".csv\"\n",
    "    pd.DataFrame(erdos_renyi(10)).to_csv(outname, index=False, header=False)"
   ]
  },
  {
   "cell_type": "code",
   "execution_count": null,
   "metadata": {},
   "outputs": [],
   "source": []
  }
 ],
 "metadata": {
  "kernelspec": {
   "display_name": "Python 3",
   "language": "python",
   "name": "python3"
  },
  "language_info": {
   "codemirror_mode": {
    "name": "ipython",
    "version": 3
   },
   "file_extension": ".py",
   "mimetype": "text/x-python",
   "name": "python",
   "nbconvert_exporter": "python",
   "pygments_lexer": "ipython3",
   "version": "3.9.2"
  },
  "orig_nbformat": 4,
  "vscode": {
   "interpreter": {
    "hash": "3b66384013171cdfccbfda8d4f96d2b3b6a10bf536bc42f61d1fe50046d47db0"
   }
  }
 },
 "nbformat": 4,
 "nbformat_minor": 2
}
